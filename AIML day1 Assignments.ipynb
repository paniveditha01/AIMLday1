{
 "cells": [
  {
   "cell_type": "markdown",
   "id": "cce88873-4e78-402b-af6b-2f6d36892c5a",
   "metadata": {},
   "source": [
    "names = ['K', 'L','M','N']\n",
    "subj = ['Maths','Science','Social', 'English']\n",
    "Sample Output: K likes Maths, L likes Science,.....\n",
    "Use 'zip' function and for loop\n"
   ]
  },
  {
   "cell_type": "code",
   "execution_count": 4,
   "id": "c3c6d25c-e866-4086-85d6-16d56fef2318",
   "metadata": {},
   "outputs": [
    {
     "name": "stdout",
     "output_type": "stream",
     "text": [
      "K likes Maths\n",
      "L likes Science\n",
      "M likes Social\n",
      "N likes English\n"
     ]
    }
   ],
   "source": [
    "names = ['K', 'L', 'M', 'N']\n",
    "subj = ['Maths', 'Science', 'Social', 'English']\n",
    "\n",
    "for name, subject in zip(names, subj):\n",
    "    print(f\"{name} likes {subject}\")"
   ]
  },
  {
   "cell_type": "markdown",
   "id": "d8b224af-d021-4f79-8622-9356ea9d7430",
   "metadata": {},
   "source": [
    "numbers = [78,990,33,25,667,891]\n",
    "Append 'divisible by 2' if the number is divisible by 2 or append 'Not divisible by 2' using List comprehension (modulus)\n"
   ]
  },
  {
   "cell_type": "code",
   "execution_count": 2,
   "id": "233c5418-68e2-49a2-b381-46587025e2d0",
   "metadata": {},
   "outputs": [
    {
     "name": "stdout",
     "output_type": "stream",
     "text": [
      "['78 is divisible by 2', '990 is divisible by 2', '33 is Not divisible by 2', '25 is Not divisible by 2', '667 is Not divisible by 2', '891 is Not divisible by 2']\n"
     ]
    }
   ],
   "source": [
    "numbers = [78, 990, 33, 25, 667, 891]\n",
    "result = [f\"{num} is {'divisible by 2' if num % 2 == 0 else 'Not divisible by 2'}\" for num in numbers]\n",
    "print(result)"
   ]
  },
  {
   "cell_type": "code",
   "execution_count": null,
   "id": "1cfbd899-9f45-4a9e-bd59-9bcd3b47dec6",
   "metadata": {},
   "outputs": [],
   "source": []
  }
 ],
 "metadata": {
  "kernelspec": {
   "display_name": "Python 3 (ipykernel)",
   "language": "python",
   "name": "python3"
  },
  "language_info": {
   "codemirror_mode": {
    "name": "ipython",
    "version": 3
   },
   "file_extension": ".py",
   "mimetype": "text/x-python",
   "name": "python",
   "nbconvert_exporter": "python",
   "pygments_lexer": "ipython3",
   "version": "3.11.7"
  }
 },
 "nbformat": 4,
 "nbformat_minor": 5
}

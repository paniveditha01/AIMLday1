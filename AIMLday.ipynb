{
 "cells": [
  {
   "cell_type": "code",
   "execution_count": 3,
   "id": "49cec41a-91fd-47ac-9b47-f2c665578a5b",
   "metadata": {},
   "outputs": [
    {
     "name": "stdout",
     "output_type": "stream",
     "text": [
      "24\n"
     ]
    }
   ],
   "source": [
    "a=24\n",
    "print(a)\n"
   ]
  },
  {
   "cell_type": "code",
   "execution_count": 4,
   "id": "44de4dfd-c939-4a4a-85f8-b7b7a91349aa",
   "metadata": {},
   "outputs": [
    {
     "name": "stdout",
     "output_type": "stream",
     "text": [
      "I am 24 Years old\n"
     ]
    }
   ],
   "source": [
    "print(\"I am\",a,\"Years old\")"
   ]
  },
  {
   "cell_type": "code",
   "execution_count": 5,
   "id": "8e57840d-030a-48cd-a56a-4c3f7f812a83",
   "metadata": {},
   "outputs": [
    {
     "name": "stdout",
     "output_type": "stream",
     "text": [
      "79\n"
     ]
    }
   ],
   "source": [
    "b=45\n",
    "c=34\n",
    "print(b+c)"
   ]
  },
  {
   "cell_type": "code",
   "execution_count": 8,
   "id": "18baa2f5-4c8e-4630-a731-63608aea567a",
   "metadata": {},
   "outputs": [
    {
     "name": "stdin",
     "output_type": "stream",
     "text": [
      "enter first num: 45\n",
      "enter second num: 3\n"
     ]
    },
    {
     "name": "stdout",
     "output_type": "stream",
     "text": [
      "the sum is 48\n"
     ]
    }
   ],
   "source": [
    "num1=int(input(\"enter first num:\"))\n",
    "num2=int(input(\"enter second num:\"))\n",
    "s=num1+num2\n",
    "print(\"the sum is\",s)"
   ]
  },
  {
   "cell_type": "code",
   "execution_count": 10,
   "id": "3ff836ea-44a9-4f10-8749-ee0fc3529ada",
   "metadata": {},
   "outputs": [
    {
     "name": "stdin",
     "output_type": "stream",
     "text": [
      "enter first operator 4\n",
      "enter second operator 5\n"
     ]
    },
    {
     "name": "stdout",
     "output_type": "stream",
     "text": [
      "9\n"
     ]
    }
   ],
   "source": [
    "operator1=int(input(\"enter first operator\"))\n",
    "operator2=int(input(\"enter second operator\"))\n",
    "print(operator1+operator2)"
   ]
  },
  {
   "cell_type": "code",
   "execution_count": 11,
   "id": "8ceb461f-75e7-41fa-9836-ce50525009b9",
   "metadata": {},
   "outputs": [
    {
     "name": "stdin",
     "output_type": "stream",
     "text": [
      "enter first operator 10\n",
      "enter second operator 9\n"
     ]
    },
    {
     "name": "stdout",
     "output_type": "stream",
     "text": [
      "1\n"
     ]
    }
   ],
   "source": [
    "operator1=int(input(\"enter first operator\"))\n",
    "operator2=int(input(\"enter second operator\"))\n",
    "print(operator1-operator2)"
   ]
  },
  {
   "cell_type": "code",
   "execution_count": 12,
   "id": "964c11dc-059a-4491-b72a-a2733f2a6252",
   "metadata": {},
   "outputs": [
    {
     "name": "stdin",
     "output_type": "stream",
     "text": [
      "enter first operator 2\n",
      "enter second operator 4\n"
     ]
    },
    {
     "name": "stdout",
     "output_type": "stream",
     "text": [
      "8\n"
     ]
    }
   ],
   "source": [
    "operator1=int(input(\"enter first operator\"))\n",
    "operator2=int(input(\"enter second operator\"))\n",
    "print(operator1*operator2)"
   ]
  },
  {
   "cell_type": "code",
   "execution_count": 13,
   "id": "3749d13d-3375-4629-bf58-33b17d14b6cc",
   "metadata": {},
   "outputs": [
    {
     "name": "stdin",
     "output_type": "stream",
     "text": [
      "enter first operator 10\n",
      "enter second operator 2\n"
     ]
    },
    {
     "name": "stdout",
     "output_type": "stream",
     "text": [
      "5.0\n"
     ]
    }
   ],
   "source": [
    "operator1=int(input(\"enter first operator\"))\n",
    "operator2=int(input(\"enter second operator\"))\n",
    "print(operator1/operator2)"
   ]
  },
  {
   "cell_type": "code",
   "execution_count": 14,
   "id": "a5a4341a-0c65-4f5e-a259-ecc267d6d22c",
   "metadata": {},
   "outputs": [
    {
     "name": "stdin",
     "output_type": "stream",
     "text": [
      "enter first operator 10\n",
      "enter second operator 2\n"
     ]
    },
    {
     "name": "stdout",
     "output_type": "stream",
     "text": [
      "5\n"
     ]
    }
   ],
   "source": [
    "operator1=int(input(\"enter first operator\"))\n",
    "operator2=int(input(\"enter second operator\"))\n",
    "print(operator1//operator2)"
   ]
  },
  {
   "cell_type": "code",
   "execution_count": 15,
   "id": "bab593e4-97dc-4d8c-a6fa-82077295b20a",
   "metadata": {},
   "outputs": [
    {
     "name": "stdin",
     "output_type": "stream",
     "text": [
      "enter first operator 10\n",
      "enter second operator 2\n"
     ]
    },
    {
     "name": "stdout",
     "output_type": "stream",
     "text": [
      "0\n"
     ]
    }
   ],
   "source": [
    "operator1=int(input(\"enter first operator\"))\n",
    "operator2=int(input(\"enter second operator\"))\n",
    "print(operator1%operator2)"
   ]
  },
  {
   "cell_type": "code",
   "execution_count": 16,
   "id": "20b0301b-f45d-421a-9dee-402f887bcfb8",
   "metadata": {},
   "outputs": [
    {
     "name": "stdin",
     "output_type": "stream",
     "text": [
      "enter first operator 6\n",
      "enter second operator 4\n"
     ]
    },
    {
     "name": "stdout",
     "output_type": "stream",
     "text": [
      "True\n"
     ]
    }
   ],
   "source": [
    "operator1=int(input(\"enter first operator\"))\n",
    "operator2=int(input(\"enter second operator\"))\n",
    "print(operator1>operator2)"
   ]
  },
  {
   "cell_type": "code",
   "execution_count": 17,
   "id": "76f8534c-29f4-4a56-8abb-eeb7a8748745",
   "metadata": {},
   "outputs": [
    {
     "name": "stdin",
     "output_type": "stream",
     "text": [
      "enter first operator 6\n",
      "enter second operator 4\n"
     ]
    },
    {
     "name": "stdout",
     "output_type": "stream",
     "text": [
      "False\n"
     ]
    }
   ],
   "source": [
    "operator1=int(input(\"enter first operator\"))\n",
    "operator2=int(input(\"enter second operator\"))\n",
    "print(operator1<operator2)"
   ]
  },
  {
   "cell_type": "code",
   "execution_count": 20,
   "id": "37a82ef0-627a-4160-ba9e-5415f54e284c",
   "metadata": {},
   "outputs": [
    {
     "name": "stdin",
     "output_type": "stream",
     "text": [
      "enter the password: nivi@121\n"
     ]
    },
    {
     "name": "stdout",
     "output_type": "stream",
     "text": [
      "Welcome\n"
     ]
    }
   ],
   "source": [
    "password=\"nivi@121\"\n",
    "p=input(\"enter the password:\")\n",
    "\n",
    "if p==password:\n",
    "    print(\"Welcome\")\n",
    "else:\n",
    "    print(\"try again\")\n",
    "    "
   ]
  },
  {
   "cell_type": "code",
   "execution_count": 21,
   "id": "9d4d179e-b150-48b3-bc9e-9431d1996635",
   "metadata": {},
   "outputs": [
    {
     "name": "stdin",
     "output_type": "stream",
     "text": [
      "enter the password: nivi@123\n"
     ]
    },
    {
     "name": "stdout",
     "output_type": "stream",
     "text": [
      "try again\n"
     ]
    }
   ],
   "source": [
    "password=\"nivi@121\"\n",
    "p=input(\"enter the password:\")\n",
    "\n",
    "if p==password:\n",
    "    print(\"Welcome\")\n",
    "else:\n",
    "    print(\"try again\")\n",
    "    "
   ]
  },
  {
   "cell_type": "code",
   "execution_count": 31,
   "id": "db7b6bdc-4d7e-4381-87c6-56fdc54d90dc",
   "metadata": {},
   "outputs": [
    {
     "name": "stdin",
     "output_type": "stream",
     "text": [
      "enter the password: nivi@15\n",
      "enter the pin: 22\n"
     ]
    },
    {
     "name": "stdout",
     "output_type": "stream",
     "text": [
      "try again\n"
     ]
    }
   ],
   "source": [
    "password=\"nivi@21\"\n",
    "pin=22\n",
    "p=input(\"enter the password:\")\n",
    "pi=int(input(\"enter the pin:\"))\n",
    "\n",
    "if p==password and pin==pi:\n",
    "   print(\"Welcome\")\n",
    "else:\n",
    "   print(\"try again\")\n"
   ]
  },
  {
   "cell_type": "code",
   "execution_count": 30,
   "id": "bd051469-3884-4e0a-ae8f-b6fb7fc82721",
   "metadata": {},
   "outputs": [
    {
     "name": "stdin",
     "output_type": "stream",
     "text": [
      "enter the password: nivi@21\n",
      "enter the pin: 24\n"
     ]
    },
    {
     "name": "stdout",
     "output_type": "stream",
     "text": [
      "try again\n"
     ]
    }
   ],
   "source": [
    "password=\"nivi@21\"\n",
    "pin=22\n",
    "p=input(\"enter the password:\")\n",
    "pi=int(input(\"enter the pin:\"))\n",
    "\n",
    "if p==password and pin==pi:\n",
    "   print(\"Welcome\")\n",
    "else:\n",
    "   print(\"try again\")\n"
   ]
  },
  {
   "cell_type": "code",
   "execution_count": 29,
   "id": "0cba0990-ab45-4f23-b297-5dfb557a50e6",
   "metadata": {},
   "outputs": [
    {
     "name": "stdin",
     "output_type": "stream",
     "text": [
      "enter the password: nivi@21\n",
      "enter the pin: 22\n"
     ]
    },
    {
     "name": "stdout",
     "output_type": "stream",
     "text": [
      "Welcome\n"
     ]
    }
   ],
   "source": [
    "password=\"nivi@21\"\n",
    "pin=22\n",
    "p=input(\"enter the password:\")\n",
    "pi=int(input(\"enter the pin:\"))\n",
    "\n",
    "if p==password and pin==pi:\n",
    "   print(\"Welcome\")\n",
    "else:\n",
    "   print(\"try again\")\n"
   ]
  },
  {
   "cell_type": "code",
   "execution_count": 32,
   "id": "182c3d7d-3cde-41b9-a0db-d66825bf478e",
   "metadata": {},
   "outputs": [
    {
     "name": "stdin",
     "output_type": "stream",
     "text": [
      "enter the password: nivi@21\n",
      "enter the pin: 25\n"
     ]
    },
    {
     "name": "stdout",
     "output_type": "stream",
     "text": [
      "Welcome\n"
     ]
    }
   ],
   "source": [
    "password=\"nivi@21\"\n",
    "pin=22\n",
    "p=input(\"enter the password:\")\n",
    "pi=int(input(\"enter the pin:\"))\n",
    "\n",
    "if p==password or pin==pi:\n",
    "   print(\"Welcome\")\n",
    "else:\n",
    "   print(\"try again\")\n"
   ]
  },
  {
   "cell_type": "code",
   "execution_count": 33,
   "id": "cc079e50-655f-4b3c-bf99-b532f83f4551",
   "metadata": {},
   "outputs": [
    {
     "name": "stdin",
     "output_type": "stream",
     "text": [
      "enter the password: nivi@187\n",
      "enter the pin: 22\n"
     ]
    },
    {
     "name": "stdout",
     "output_type": "stream",
     "text": [
      "Welcome\n"
     ]
    }
   ],
   "source": [
    "password=\"nivi@21\"\n",
    "pin=22\n",
    "p=input(\"enter the password:\")\n",
    "pi=int(input(\"enter the pin:\"))\n",
    "\n",
    "if p==password or pin==pi:\n",
    "   print(\"Welcome\")\n",
    "else:\n",
    "   print(\"try again\")"
   ]
  },
  {
   "cell_type": "code",
   "execution_count": 34,
   "id": "bd8308ca-e6e8-4d73-8d48-36da1cb49ac4",
   "metadata": {},
   "outputs": [
    {
     "name": "stdin",
     "output_type": "stream",
     "text": [
      "enter the password: nivi@21\n",
      "enter the pin: 22\n"
     ]
    },
    {
     "name": "stdout",
     "output_type": "stream",
     "text": [
      "Welcome\n"
     ]
    }
   ],
   "source": [
    "password=\"nivi@21\"\n",
    "pin=22\n",
    "p=input(\"enter the password:\")\n",
    "pi=int(input(\"enter the pin:\"))\n",
    "\n",
    "if p==password or pin==pi:\n",
    "   print(\"Welcome\")\n",
    "else:\n",
    "   print(\"try again\")"
   ]
  },
  {
   "cell_type": "code",
   "execution_count": 36,
   "id": "5c65baa1-2440-4cbc-9867-15a27dc57718",
   "metadata": {},
   "outputs": [
    {
     "name": "stdout",
     "output_type": "stream",
     "text": [
      "you\n"
     ]
    }
   ],
   "source": [
    "s=\"hello how are you?\"\n",
    "#[start:end]\n",
    "print(s[-4:-1])"
   ]
  },
  {
   "cell_type": "code",
   "execution_count": 37,
   "id": "1d6c817a-f206-405b-a83c-2c5f8736ccba",
   "metadata": {},
   "outputs": [
    {
     "name": "stdout",
     "output_type": "stream",
     "text": [
      "hello\n"
     ]
    }
   ],
   "source": [
    "s=\"hello how are you?\"\n",
    "#[start:end]\n",
    "print(s[0:5])"
   ]
  },
  {
   "cell_type": "code",
   "execution_count": 43,
   "id": "1768000a-c6a8-4705-a5eb-88ba49008127",
   "metadata": {},
   "outputs": [
    {
     "name": "stdout",
     "output_type": "stream",
     "text": [
      "h\n",
      "e\n",
      "l\n",
      "l\n",
      "o\n"
     ]
    }
   ],
   "source": [
    "for i in range (0,5):\n",
    "    print(s[i])"
   ]
  },
  {
   "cell_type": "code",
   "execution_count": 50,
   "id": "8625dabd-ecbf-406c-aea5-70b433b4ce5d",
   "metadata": {},
   "outputs": [
    {
     "name": "stdout",
     "output_type": "stream",
     "text": [
      "24\n"
     ]
    }
   ],
   "source": [
    "fact=1\n",
    "i=1\n",
    "\n",
    "while i<5:\n",
    "    fact=fact*i #24\n",
    "    i=i+1 #5\n",
    "print(fact)"
   ]
  },
  {
   "cell_type": "code",
   "execution_count": 53,
   "id": "2900440c-ff86-4770-abc0-44e865638335",
   "metadata": {},
   "outputs": [
    {
     "name": "stdout",
     "output_type": "stream",
     "text": [
      "120\n"
     ]
    }
   ],
   "source": [
    "fact=1\n",
    "i=1\n",
    "\n",
    "while i<=5:#6<=5\n",
    "    fact*=i #24 #fact=fact*i\n",
    "    i=i+1 #5\n",
    "print(fact)"
   ]
  },
  {
   "cell_type": "code",
   "execution_count": 60,
   "id": "bb8cb339-84e0-456a-ad9f-df3ae54b07b5",
   "metadata": {},
   "outputs": [
    {
     "name": "stdout",
     "output_type": "stream",
     "text": [
      "3\n",
      "6\n",
      "10\n",
      "15\n"
     ]
    }
   ],
   "source": [
    "fact=1\n",
    "i=2\n",
    "\n",
    "while i<=5:\n",
    "    fact=fact+i\n",
    "    i=i+1\n",
    "    print(fact)"
   ]
  },
  {
   "cell_type": "code",
   "execution_count": 79,
   "id": "c72f84b4-f8dd-4bac-9b09-55ab65708a34",
   "metadata": {},
   "outputs": [
    {
     "name": "stdout",
     "output_type": "stream",
     "text": [
      "[9, 90, 'Like', 90.7, True, 'Like']\n"
     ]
    }
   ],
   "source": [
    "#list #mutable,heterogenous,accepts duplicates\n",
    "list1=[9,90,'Like',90.7,True,'Like']\n",
    "print(list1)"
   ]
  },
  {
   "cell_type": "code",
   "execution_count": 80,
   "id": "6c22cce7-32b4-4c98-af6c-e5ffb10b6a2f",
   "metadata": {},
   "outputs": [
    {
     "name": "stdout",
     "output_type": "stream",
     "text": [
      "[9, 90, 'Like', 90.7, True, 'Like', 'nivi']\n"
     ]
    }
   ],
   "source": [
    "list1.append('nivi')\n",
    "print(list1)"
   ]
  },
  {
   "cell_type": "code",
   "execution_count": 95,
   "id": "fdd6e820-1661-4e64-b59c-15f7d0b09575",
   "metadata": {},
   "outputs": [
    {
     "name": "stdout",
     "output_type": "stream",
     "text": [
      "[90, 45, 23, 12, 91, 89, 45, 12, 65, 36]\n"
     ]
    }
   ],
   "source": [
    "list2=[90,45,23,12,91]\n",
    "list3=[89,45,12,65,36]\n",
    "print(list2+list3)"
   ]
  },
  {
   "cell_type": "code",
   "execution_count": 96,
   "id": "adbfaa91-e073-4ecc-8177-20a58f9697ea",
   "metadata": {},
   "outputs": [
    {
     "name": "stdout",
     "output_type": "stream",
     "text": [
      "None\n"
     ]
    }
   ],
   "source": [
    "print(list2.extend(list3))"
   ]
  },
  {
   "cell_type": "code",
   "execution_count": 97,
   "id": "364ecf36-183e-482f-99a5-720e7b2625a8",
   "metadata": {},
   "outputs": [
    {
     "data": {
      "text/plain": [
       "[89, 45, 12, 65, 36]"
      ]
     },
     "execution_count": 97,
     "metadata": {},
     "output_type": "execute_result"
    }
   ],
   "source": [
    "list3"
   ]
  },
  {
   "cell_type": "code",
   "execution_count": 103,
   "id": "36c718cd-082f-4f9f-96ab-d3a9b2ee0e0b",
   "metadata": {},
   "outputs": [],
   "source": [
    "list4=[89,45,12,23,99,80]\n",
    "list4.sort() #changes are reflected on original list list4"
   ]
  },
  {
   "cell_type": "code",
   "execution_count": 104,
   "id": "04d92205-758d-40e9-ba5f-12e60e7e8e71",
   "metadata": {},
   "outputs": [
    {
     "data": {
      "text/plain": [
       "[12, 23, 45, 80, 89, 99]"
      ]
     },
     "execution_count": 104,
     "metadata": {},
     "output_type": "execute_result"
    }
   ],
   "source": [
    "list4"
   ]
  },
  {
   "cell_type": "code",
   "execution_count": 105,
   "id": "1d0c7d94-604f-4215-843a-509161987c2b",
   "metadata": {},
   "outputs": [
    {
     "data": {
      "text/plain": [
       "[102, 100, 90, 34]"
      ]
     },
     "execution_count": 105,
     "metadata": {},
     "output_type": "execute_result"
    }
   ],
   "source": [
    "list5=[90,100,102,34] \n",
    "list5.sort(reverse = True)\n",
    "list5"
   ]
  },
  {
   "cell_type": "code",
   "execution_count": 8,
   "id": "4ecf39ba-2c94-4973-956b-f7bc503b03da",
   "metadata": {},
   "outputs": [
    {
     "data": {
      "text/plain": [
       "[12, 45, 46, 99, 103]"
      ]
     },
     "execution_count": 8,
     "metadata": {},
     "output_type": "execute_result"
    }
   ],
   "source": [
    "list6=[99,45,12,103,46]\n",
    "list7=sorted(list6) #changes are not reflected in original list\n",
    "list7 #need to save the changes in different list"
   ]
  },
  {
   "cell_type": "code",
   "execution_count": 9,
   "id": "fbf29008-a925-48de-91d1-f2499bed4ff1",
   "metadata": {},
   "outputs": [
    {
     "data": {
      "text/plain": [
       "[99, 45, 12, 103, 46]"
      ]
     },
     "execution_count": 9,
     "metadata": {},
     "output_type": "execute_result"
    }
   ],
   "source": [
    "list6"
   ]
  },
  {
   "cell_type": "code",
   "execution_count": 10,
   "id": "ceb5ddd9-f382-4adb-bd05-13d7a39a4a36",
   "metadata": {},
   "outputs": [
    {
     "name": "stdout",
     "output_type": "stream",
     "text": [
      "9801\n",
      "2025\n",
      "144\n",
      "10609\n",
      "2116\n"
     ]
    }
   ],
   "source": [
    "for i in list6:\n",
    "    print(i*i)"
   ]
  },
  {
   "cell_type": "code",
   "execution_count": 11,
   "id": "22262bc2-c413-4e63-bf03-37eec61f712d",
   "metadata": {},
   "outputs": [],
   "source": [
    "#new list=[output for listname]\n",
    "listnew=[i*i for i in list6]"
   ]
  },
  {
   "cell_type": "code",
   "execution_count": 12,
   "id": "3add9a59-86d5-419d-a0f8-62bb1c5dc517",
   "metadata": {},
   "outputs": [
    {
     "data": {
      "text/plain": [
       "[9801, 2025, 144, 10609, 2116]"
      ]
     },
     "execution_count": 12,
     "metadata": {},
     "output_type": "execute_result"
    }
   ],
   "source": [
    "listnew"
   ]
  },
  {
   "cell_type": "code",
   "execution_count": 13,
   "id": "ac772052-67b9-4139-986b-0c24422d2bbf",
   "metadata": {},
   "outputs": [],
   "source": [
    "sqr=[]\n",
    "for i in list6:\n",
    "    sqr.append(i*i)\n",
    "    sqr"
   ]
  },
  {
   "cell_type": "code",
   "execution_count": 14,
   "id": "b49ed574-c007-4d99-b658-92e8b7fd15e9",
   "metadata": {},
   "outputs": [],
   "source": [
    "s=[]\n",
    "for i in list6:\n",
    "    if i>50:\n",
    "        s.append(i*i)"
   ]
  },
  {
   "cell_type": "code",
   "execution_count": 15,
   "id": "ff790cc6-72bb-4cf8-a5ee-d1117fe69acb",
   "metadata": {},
   "outputs": [
    {
     "data": {
      "text/plain": [
       "[9801, 10609]"
      ]
     },
     "execution_count": 15,
     "metadata": {},
     "output_type": "execute_result"
    }
   ],
   "source": [
    "s"
   ]
  },
  {
   "cell_type": "code",
   "execution_count": 19,
   "id": "f6b37c5f-b3f4-4012-8d89-e9b8bccfaf09",
   "metadata": {},
   "outputs": [],
   "source": [
    "#newlist=[output for if]\n",
    "slc=[i*i for i in list6 if i>50]"
   ]
  },
  {
   "cell_type": "code",
   "execution_count": 20,
   "id": "04813e0f-554f-42b6-b07b-81e4fb8f7afa",
   "metadata": {},
   "outputs": [
    {
     "data": {
      "text/plain": [
       "[9801, 10609]"
      ]
     },
     "execution_count": 20,
     "metadata": {},
     "output_type": "execute_result"
    }
   ],
   "source": [
    "slc"
   ]
  },
  {
   "cell_type": "code",
   "execution_count": 21,
   "id": "968e6d2f-03f6-4a83-bb7f-c0e0b81aee5a",
   "metadata": {},
   "outputs": [],
   "source": [
    "marks=[92,82,89,98,100]\n",
    "grades=[]\n",
    "for i in marks:\n",
    "    if i>90:\n",
    "        grades.append(\"A\") #body of if\n",
    "    else:\n",
    "        grades.append(\"B\")#body of else"
   ]
  },
  {
   "cell_type": "code",
   "execution_count": 22,
   "id": "59e3ba21-4313-41a3-94a9-540efc2dd890",
   "metadata": {},
   "outputs": [
    {
     "data": {
      "text/plain": [
       "['A', 'B', 'B', 'A', 'A']"
      ]
     },
     "execution_count": 22,
     "metadata": {},
     "output_type": "execute_result"
    }
   ],
   "source": [
    "grades"
   ]
  },
  {
   "cell_type": "code",
   "execution_count": 24,
   "id": "2ddfe3f1-628a-4e0a-bdb6-9f53fc233a6a",
   "metadata": {},
   "outputs": [],
   "source": [
    "#newlist=[(body of if)(if condition)(else)(body of else)for]\n",
    "gradeslc=[\"A\" if i>90 else \"B\" for i in marks] "
   ]
  },
  {
   "cell_type": "code",
   "execution_count": 26,
   "id": "e98030be-7c4d-47c8-9490-fc9028ff11a3",
   "metadata": {},
   "outputs": [
    {
     "data": {
      "text/plain": [
       "['A', 'B', 'B', 'A', 'A']"
      ]
     },
     "execution_count": 26,
     "metadata": {},
     "output_type": "execute_result"
    }
   ],
   "source": [
    "gradeslc"
   ]
  },
  {
   "cell_type": "markdown",
   "id": "be0865a2-fe14-4e0b-a36f-0da8c0197345",
   "metadata": {},
   "source": [
    "If the salary is more than 50000,reduce 10% tax else reduce 5% tax and save remaining salary in a new list"
   ]
  },
  {
   "cell_type": "code",
   "execution_count": 64,
   "id": "697d399f-a5ad-4640-84fe-bc74a31f07bc",
   "metadata": {},
   "outputs": [],
   "source": [
    "salary=[19000,78000,10000,56000,45000,12000]\n",
    "fsalary=[]\n",
    "\n",
    "for i in salary:\n",
    "    if i>50000: #sal-sal*10%\n",
    "       fsalary.append(i-i*0.1)\n",
    "    else:\n",
    "        fsalary.append(i-i*0.05)"
   ]
  },
  {
   "cell_type": "code",
   "execution_count": 65,
   "id": "33395bf4-22b1-40ee-9091-9495e2dffde4",
   "metadata": {},
   "outputs": [
    {
     "data": {
      "text/plain": [
       "[18050.0, 70200.0, 9500.0, 50400.0, 42750.0, 11400.0]"
      ]
     },
     "execution_count": 65,
     "metadata": {},
     "output_type": "execute_result"
    }
   ],
   "source": [
    "fsalary"
   ]
  },
  {
   "cell_type": "code",
   "execution_count": 66,
   "id": "a6ea21cc-e9f2-4916-892e-839105f30416",
   "metadata": {},
   "outputs": [],
   "source": [
    "fsalary=[i-i*0.1 if i>50000 else i-i*0.05 for i in salary]"
   ]
  },
  {
   "cell_type": "code",
   "execution_count": 67,
   "id": "84fcd939-0a92-4944-bf78-1c5862428171",
   "metadata": {},
   "outputs": [
    {
     "data": {
      "text/plain": [
       "[18050.0, 70200.0, 9500.0, 50400.0, 42750.0, 11400.0]"
      ]
     },
     "execution_count": 67,
     "metadata": {},
     "output_type": "execute_result"
    }
   ],
   "source": [
    "fsalary"
   ]
  },
  {
   "cell_type": "code",
   "execution_count": 70,
   "id": "78af57fc-61fe-41c0-a416-5a3d0b7466c2",
   "metadata": {},
   "outputs": [
    {
     "name": "stdout",
     "output_type": "stream",
     "text": [
      "179\n",
      "90\n",
      "35\n",
      "77\n",
      "127\n"
     ]
    }
   ],
   "source": [
    "list2=[90,45,23,12,91]\n",
    "list4=[89,45,12,65,36]\n",
    "\n",
    "for i,j in zip(list2,list4):\n",
    "    print(i+j)"
   ]
  },
  {
   "cell_type": "code",
   "execution_count": 71,
   "id": "4929eee2-d44f-44bb-860c-ca3435f39bde",
   "metadata": {},
   "outputs": [],
   "source": [
    "#tuple\n",
    "tup1=(34,'hello',90,'hi',90.6)"
   ]
  },
  {
   "cell_type": "code",
   "execution_count": 72,
   "id": "8b5d5ba8-9673-4544-9a56-d0e101a83bea",
   "metadata": {},
   "outputs": [
    {
     "data": {
      "text/plain": [
       "(34, 'hello', 90, 'hi', 90.6)"
      ]
     },
     "execution_count": 72,
     "metadata": {},
     "output_type": "execute_result"
    }
   ],
   "source": [
    "tup1"
   ]
  },
  {
   "cell_type": "code",
   "execution_count": 73,
   "id": "c3ce04fb-cca7-4b30-8ac1-4a8f83667c4c",
   "metadata": {},
   "outputs": [
    {
     "name": "stdout",
     "output_type": "stream",
     "text": [
      "90\n",
      "45\n",
      "3\n"
     ]
    }
   ],
   "source": [
    "tup2=(90,45,67)\n",
    "print(max(tup2))\n",
    "print(min(tup2))\n",
    "print(len(tup2))"
   ]
  },
  {
   "cell_type": "code",
   "execution_count": 74,
   "id": "17541375-816e-45f8-8867-2955b9b9d638",
   "metadata": {},
   "outputs": [],
   "source": [
    "tup3=sorted(tup2)"
   ]
  },
  {
   "cell_type": "code",
   "execution_count": 75,
   "id": "c88b56b7-69b6-444a-b185-ede8f566d897",
   "metadata": {},
   "outputs": [
    {
     "data": {
      "text/plain": [
       "[45, 67, 90]"
      ]
     },
     "execution_count": 75,
     "metadata": {},
     "output_type": "execute_result"
    }
   ],
   "source": [
    "tup3"
   ]
  },
  {
   "cell_type": "markdown",
   "id": "8b2a6510-3764-4f7e-9d73-0cdcc09c5e18",
   "metadata": {},
   "source": [
    "#Dictionary"
   ]
  },
  {
   "cell_type": "code",
   "execution_count": 77,
   "id": "3a366eab-4c04-4894-a3e4-91b7810d2dac",
   "metadata": {},
   "outputs": [],
   "source": [
    "dict1={1:\"joe\",2:\"nivi\",3:\"suma\"}"
   ]
  },
  {
   "cell_type": "code",
   "execution_count": 78,
   "id": "6c8ab8d0-27b6-4bbf-b747-7569cd88fee9",
   "metadata": {},
   "outputs": [
    {
     "data": {
      "text/plain": [
       "{1: 'joe', 2: 'nivi', 3: 'suma'}"
      ]
     },
     "execution_count": 78,
     "metadata": {},
     "output_type": "execute_result"
    }
   ],
   "source": [
    "dict1"
   ]
  },
  {
   "cell_type": "code",
   "execution_count": 79,
   "id": "d064ff78-d7ce-4176-8c71-33b57d83de80",
   "metadata": {},
   "outputs": [],
   "source": [
    "dict1={1:\"joe\",1:\"nivi\",3:\"suma\"}"
   ]
  },
  {
   "cell_type": "code",
   "execution_count": 80,
   "id": "1b9ecf32-3608-4fdc-a68d-7c0c17d8954b",
   "metadata": {},
   "outputs": [
    {
     "data": {
      "text/plain": [
       "{1: 'nivi', 3: 'suma'}"
      ]
     },
     "execution_count": 80,
     "metadata": {},
     "output_type": "execute_result"
    }
   ],
   "source": [
    "dict1"
   ]
  },
  {
   "cell_type": "code",
   "execution_count": 81,
   "id": "390f7232-53f1-415e-a257-d3db4be02e20",
   "metadata": {},
   "outputs": [],
   "source": [
    "dict1={1:\"nivi\",2:\"nivi\",3:\"suma\"}"
   ]
  },
  {
   "cell_type": "code",
   "execution_count": 82,
   "id": "5756e35b-b542-4d77-932c-a20eb3709151",
   "metadata": {},
   "outputs": [
    {
     "data": {
      "text/plain": [
       "{1: 'nivi', 2: 'nivi', 3: 'suma'}"
      ]
     },
     "execution_count": 82,
     "metadata": {},
     "output_type": "execute_result"
    }
   ],
   "source": [
    "dict1"
   ]
  },
  {
   "cell_type": "code",
   "execution_count": 83,
   "id": "1f66bf40-507c-4d93-9be1-6dedffcb7f64",
   "metadata": {},
   "outputs": [],
   "source": [
    "dict2={'name':\"nivi\",'hobbies':['sleeping','eating','playing']}"
   ]
  },
  {
   "cell_type": "code",
   "execution_count": 84,
   "id": "a323116c-10f3-4257-bf7d-7ae5049af419",
   "metadata": {},
   "outputs": [
    {
     "name": "stdout",
     "output_type": "stream",
     "text": [
      "['sleeping', 'eating', 'playing']\n"
     ]
    }
   ],
   "source": [
    "print(dict2['hobbies'])"
   ]
  },
  {
   "cell_type": "code",
   "execution_count": 93,
   "id": "b92ca824-aec3-45d1-9fbd-e1e7bb6e27c4",
   "metadata": {},
   "outputs": [
    {
     "name": "stdout",
     "output_type": "stream",
     "text": [
      "eating\n"
     ]
    }
   ],
   "source": [
    "print(dict2['hobbies'][1])"
   ]
  },
  {
   "cell_type": "code",
   "execution_count": 94,
   "id": "85f119a3-4b0a-464b-8818-4e3b442fed3b",
   "metadata": {},
   "outputs": [
    {
     "name": "stdout",
     "output_type": "stream",
     "text": [
      "nivi's hobbies are ['sleeping', 'eating', 'playing']\n"
     ]
    }
   ],
   "source": [
    "print(\"nivi's hobbies are\",dict2['hobbies'])"
   ]
  },
  {
   "cell_type": "code",
   "execution_count": 85,
   "id": "4648b1de-acf1-4c89-b6ad-eb23eb1b6f91",
   "metadata": {},
   "outputs": [
    {
     "data": {
      "text/plain": [
       "dict_keys(['name', 'hobbies'])"
      ]
     },
     "execution_count": 85,
     "metadata": {},
     "output_type": "execute_result"
    }
   ],
   "source": [
    "dict2.keys()"
   ]
  },
  {
   "cell_type": "code",
   "execution_count": 86,
   "id": "354f1ca9-3ac3-4ba2-ab66-7efb21646a4a",
   "metadata": {},
   "outputs": [
    {
     "data": {
      "text/plain": [
       "dict_values(['nivi', ['sleeping', 'eating', 'playing']])"
      ]
     },
     "execution_count": 86,
     "metadata": {},
     "output_type": "execute_result"
    }
   ],
   "source": [
    "dict2.values()"
   ]
  },
  {
   "cell_type": "code",
   "execution_count": 87,
   "id": "80b2f3cd-0fb6-4fcf-95dc-391fc7c23ea7",
   "metadata": {},
   "outputs": [
    {
     "data": {
      "text/plain": [
       "dict_items([('name', 'nivi'), ('hobbies', ['sleeping', 'eating', 'playing'])])"
      ]
     },
     "execution_count": 87,
     "metadata": {},
     "output_type": "execute_result"
    }
   ],
   "source": [
    "dict2.items()"
   ]
  },
  {
   "cell_type": "code",
   "execution_count": 95,
   "id": "a14689fa-293d-481a-ba31-2919d4523eca",
   "metadata": {},
   "outputs": [],
   "source": [
    "#set\n",
    "s1={12,34,56,12,67}"
   ]
  },
  {
   "cell_type": "code",
   "execution_count": 96,
   "id": "9bd15191-af7a-4b32-8eee-168c5f85e415",
   "metadata": {},
   "outputs": [
    {
     "data": {
      "text/plain": [
       "{12, 34, 56, 67}"
      ]
     },
     "execution_count": 96,
     "metadata": {},
     "output_type": "execute_result"
    }
   ],
   "source": [
    "s1"
   ]
  },
  {
   "cell_type": "code",
   "execution_count": 97,
   "id": "eda211ea-3997-4a03-8204-18732ba076ec",
   "metadata": {},
   "outputs": [],
   "source": [
    "listrep=[90,56,90,34,90,90,56]\n",
    "s2=set(listrep)"
   ]
  },
  {
   "cell_type": "code",
   "execution_count": 98,
   "id": "6e02d79a-9718-4e0c-8c4e-b3d11eeff212",
   "metadata": {},
   "outputs": [
    {
     "data": {
      "text/plain": [
       "{34, 56, 90}"
      ]
     },
     "execution_count": 98,
     "metadata": {},
     "output_type": "execute_result"
    }
   ],
   "source": [
    "s2"
   ]
  },
  {
   "cell_type": "code",
   "execution_count": null,
   "id": "e6dcc5df-3c07-449c-a488-26392173f8ca",
   "metadata": {},
   "outputs": [],
   "source": []
  }
 ],
 "metadata": {
  "kernelspec": {
   "display_name": "Python 3 (ipykernel)",
   "language": "python",
   "name": "python3"
  },
  "language_info": {
   "codemirror_mode": {
    "name": "ipython",
    "version": 3
   },
   "file_extension": ".py",
   "mimetype": "text/x-python",
   "name": "python",
   "nbconvert_exporter": "python",
   "pygments_lexer": "ipython3",
   "version": "3.11.7"
  }
 },
 "nbformat": 4,
 "nbformat_minor": 5
}
